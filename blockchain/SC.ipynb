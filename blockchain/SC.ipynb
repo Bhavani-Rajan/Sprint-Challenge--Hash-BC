{
 "cells": [
  {
   "cell_type": "code",
   "execution_count": 3,
   "metadata": {},
   "outputs": [
    {
     "data": {
      "text/plain": [
       "'12345'"
      ]
     },
     "execution_count": 3,
     "metadata": {},
     "output_type": "execute_result"
    }
   ],
   "source": [
    "s=\"12345678901234567\"\n",
    "s[:5]"
   ]
  },
  {
   "cell_type": "code",
   "execution_count": 4,
   "metadata": {},
   "outputs": [],
   "source": [
    "import random"
   ]
  },
  {
   "cell_type": "code",
   "execution_count": 16,
   "metadata": {},
   "outputs": [
    {
     "data": {
      "text/plain": [
       "1"
      ]
     },
     "execution_count": 16,
     "metadata": {},
     "output_type": "execute_result"
    }
   ],
   "source": [
    "int(random.random() * 10)"
   ]
  },
  {
   "cell_type": "code",
   "execution_count": 17,
   "metadata": {},
   "outputs": [],
   "source": [
    "# '''\n",
    "# Linked List hash table key/value pair\n",
    "# '''\n",
    "class LinkedPair:\n",
    "    def __init__(self, key, value):\n",
    "        self.key = key\n",
    "        self.value = value\n",
    "        self.next = None\n",
    "\n",
    "\n",
    "# '''\n",
    "# Resizing hash table\n",
    "# '''\n",
    "class HashTable:\n",
    "    def __init__(self, capacity):\n",
    "        self.capacity = capacity\n",
    "        self.storage = [None] * capacity\n",
    "\n",
    "\n",
    "# Hash int\n",
    "def hash(x, max):\n",
    "    x = ((x >> 16) ^ x) * 0x45d9f3b\n",
    "    x = ((x >> 16) ^ x) * 0x45d9f3b\n",
    "    x = ((x >> 16) ^ x)\n",
    "\n",
    "    return x % max\n",
    "\n",
    "\n",
    "def hash_table_insert(hash_table, key, value):\n",
    "    index = hash(key, len(hash_table.storage))\n",
    "\n",
    "    current_pair = hash_table.storage[index]\n",
    "    last_pair = None\n",
    "\n",
    "    while current_pair is not None and current_pair.key != key:\n",
    "        last_pair = current_pair\n",
    "        current_pair = last_pair.next\n",
    "\n",
    "    if current_pair is not None:\n",
    "        current_pair.value = value\n",
    "    else:\n",
    "        new_pair = LinkedPair(key, value)\n",
    "        new_pair.next = hash_table.storage[index]\n",
    "        hash_table.storage[index] = new_pair\n",
    "\n",
    "\n",
    "def hash_table_remove(hash_table, key):\n",
    "    index = hash(key, len(hash_table.storage))\n",
    "\n",
    "    current_pair = hash_table.storage[index]\n",
    "    last_pair = None\n",
    "\n",
    "    while current_pair is not None and current_pair.key != key:\n",
    "        last_pair = current_pair\n",
    "        current_pair = last_pair.next\n",
    "\n",
    "    if current_pair is None:\n",
    "        print(\"ERROR: Unable to remove entry with key \" + key)\n",
    "    else:\n",
    "        if last_pair is None:  # Removing the first element in the LL\n",
    "            hash_table.storage[index] = current_pair.next\n",
    "        else:\n",
    "            last_pair.next = current_pair.next\n",
    "\n",
    "\n",
    "def hash_table_retrieve(hash_table, key):\n",
    "    index = hash(key, len(hash_table.storage))\n",
    "\n",
    "    current_pair = hash_table.storage[index]\n",
    "\n",
    "    while current_pair is not None:\n",
    "        if(current_pair.key == key):\n",
    "            return current_pair.value\n",
    "        current_pair = current_pair.next\n",
    "\n",
    "\n",
    "def hash_table_resize(hash_table):\n",
    "    new_hash_table = HashTable(2 * len(hash_table.storage))\n",
    "\n",
    "    current_pair = None\n",
    "\n",
    "    for i in range(len(hash_table.storage)):\n",
    "        current_pair = hash_table.storage[i]\n",
    "        while current_pair is not None:\n",
    "            hash_table_insert(new_hash_table,\n",
    "                              current_pair.key,\n",
    "                              current_pair.value)\n",
    "            current_pair = current_pair.next\n",
    "\n",
    "    return new_hash_table"
   ]
  },
  {
   "cell_type": "code",
   "execution_count": 18,
   "metadata": {},
   "outputs": [],
   "source": [
    "ht = HashTable(16)\n",
    "hash_table_insert(ht,4,0)\n",
    "hash_table_insert(ht,1,1)\n",
    "hash_table_insert(ht,4,2)"
   ]
  },
  {
   "cell_type": "code",
   "execution_count": 19,
   "metadata": {},
   "outputs": [
    {
     "data": {
      "text/plain": [
       "2"
      ]
     },
     "execution_count": 19,
     "metadata": {},
     "output_type": "execute_result"
    }
   ],
   "source": [
    "hash_table_retrieve(ht,4)"
   ]
  },
  {
   "cell_type": "code",
   "execution_count": 20,
   "metadata": {},
   "outputs": [
    {
     "data": {
      "text/plain": [
       "1"
      ]
     },
     "execution_count": 20,
     "metadata": {},
     "output_type": "execute_result"
    }
   ],
   "source": [
    "hash_table_retrieve(ht,1)"
   ]
  },
  {
   "cell_type": "code",
   "execution_count": 21,
   "metadata": {},
   "outputs": [],
   "source": [
    "# Hints\n",
    "# A brute-force solution would involve two nested loops, yielding a quadratic-runtime solution. \n",
    "# How can we use a hash table in order to implement a solution with a better runtime?\n",
    "# Think about what we can store in the hash table in order to help us \n",
    "# to solve this problem more efficiently.\n",
    "# What if we store each weight in the input list as keys? \n",
    "# What would be a useful thing to store as the value for each key?\n",
    "# If we store each weight's list index as its value, \n",
    "# we can then check to see if the hash table contains an entry for limit - weight. \n",
    "# If it does, then we've found the two items whose weights sum up to the limit!\n",
    "\n",
    "\n",
    "def get_indices_of_item_weights(weights, length, limit):\n",
    "    ht = HashTable(16)\n",
    "\n",
    "    \"\"\"\n",
    "    YOUR CODE HERE\n",
    "    \"\"\"\n",
    "    for i in range(length):\n",
    "            hash_table_insert(ht,weights[i],i)\n",
    "\n",
    "    for wt in weights:\n",
    "        if hash_table_retrieve(ht,(limit-wt)) is not None:\n",
    "            if wt == (limit-wt):\n",
    "                return (hash_table_retrieve(ht,wt),weights.index(wt))\n",
    "            zero=max([wt,(limit-wt)])\n",
    "            one=min([wt,(limit-wt)])\n",
    "            return (hash_table_retrieve(ht,zero),hash_table_retrieve(ht,one))\n",
    "            \n",
    "\n",
    "    return None"
   ]
  },
  {
   "cell_type": "code",
   "execution_count": 22,
   "metadata": {},
   "outputs": [
    {
     "name": "stdout",
     "output_type": "stream",
     "text": [
      "(3, 1)\n"
     ]
    }
   ],
   "source": [
    "weights = [ 4, 6, 10, 15, 16 ]\n",
    "#output: [ 3, 1 ]\n",
    "limit = 21\n",
    "length = 5\n",
    "print(get_indices_of_item_weights(weights, length, limit))"
   ]
  },
  {
   "cell_type": "code",
   "execution_count": 23,
   "metadata": {},
   "outputs": [
    {
     "name": "stdout",
     "output_type": "stream",
     "text": [
      "None\n"
     ]
    }
   ],
   "source": [
    "weights_1 = [9]\n",
    "print(get_indices_of_item_weights(weights_1, 1, 9))"
   ]
  },
  {
   "cell_type": "code",
   "execution_count": 24,
   "metadata": {},
   "outputs": [
    {
     "name": "stdout",
     "output_type": "stream",
     "text": [
      "(1, 0)\n"
     ]
    }
   ],
   "source": [
    "weights_2 = [4, 4]\n",
    "print(get_indices_of_item_weights(weights_2, 2, 8))"
   ]
  },
  {
   "cell_type": "code",
   "execution_count": 25,
   "metadata": {},
   "outputs": [
    {
     "name": "stdout",
     "output_type": "stream",
     "text": [
      "(3, 1)\n"
     ]
    }
   ],
   "source": [
    "weights_3 = [4, 6, 10, 15, 16]\n",
    "print(get_indices_of_item_weights(weights_3, 5, 21))"
   ]
  },
  {
   "cell_type": "code",
   "execution_count": 26,
   "metadata": {},
   "outputs": [
    {
     "name": "stdout",
     "output_type": "stream",
     "text": [
      "(2, 6)\n"
     ]
    }
   ],
   "source": [
    "weights_4 = [12, 6, 7, 14, 19, 3, 0, 25, 40]\n",
    "print(get_indices_of_item_weights(weights_4, 9, 7))"
   ]
  },
  {
   "cell_type": "code",
   "execution_count": 27,
   "metadata": {},
   "outputs": [],
   "source": [
    "# '''\n",
    "# Linked List hash table key/value pair\n",
    "# '''\n",
    "class LinkedPair:\n",
    "    def __init__(self, key, value):\n",
    "        self.key = key\n",
    "        self.value = value\n",
    "        self.next = None\n",
    "\n",
    "\n",
    "# '''\n",
    "# Resizing hash table\n",
    "# '''\n",
    "class HashTable:\n",
    "    def __init__(self, capacity):\n",
    "        self.capacity = capacity\n",
    "        self.storage = [None] * capacity\n",
    "\n",
    "\n",
    "def hash(string, max):\n",
    "    hash = 5381\n",
    "    for char in string:\n",
    "        hash = ((hash << 5) + hash) + ord(char)\n",
    "\n",
    "    return hash % max\n",
    "\n",
    "def hash_table_insert(hash_table, key, value):\n",
    "    index = hash(key, len(hash_table.storage))\n",
    "\n",
    "    current_pair = hash_table.storage[index]\n",
    "    last_pair = None\n",
    "\n",
    "    while current_pair is not None and current_pair.key != key:\n",
    "        last_pair = current_pair\n",
    "        current_pair = last_pair.next\n",
    "\n",
    "    if current_pair is not None:\n",
    "        current_pair.value = value\n",
    "    else:\n",
    "        new_pair = LinkedPair(key, value)\n",
    "        new_pair.next = hash_table.storage[index]\n",
    "        hash_table.storage[index] = new_pair\n",
    "\n",
    "\n",
    "def hash_table_remove(hash_table, key):\n",
    "    index = hash(key, len(hash_table.storage))\n",
    "\n",
    "    current_pair = hash_table.storage[index]\n",
    "    last_pair = None\n",
    "\n",
    "    while current_pair is not None and current_pair.key != key:\n",
    "        last_pair = current_pair\n",
    "        current_pair = last_pair.next\n",
    "\n",
    "    if current_pair is None:\n",
    "        print(\"ERROR: Unable to remove entry with key \" + key)\n",
    "    else:\n",
    "        if last_pair is None:  # Removing the first element in the LL\n",
    "            hash_table.storage[index] = current_pair.next\n",
    "        else:\n",
    "            last_pair.next = current_pair.next\n",
    "\n",
    "\n",
    "\n",
    "def hash_table_retrieve(hash_table, key):\n",
    "    index = hash(key, len(hash_table.storage))\n",
    "\n",
    "    current_pair = hash_table.storage[index]\n",
    "\n",
    "    while current_pair is not None:\n",
    "        if(current_pair.key == key):\n",
    "            return current_pair.value\n",
    "        current_pair = current_pair.next\n",
    "\n",
    "\n",
    "def hash_table_resize(hash_table):\n",
    "    new_hash_table = HashTable(2 * len(hash_table.storage))\n",
    "\n",
    "    current_pair = None\n",
    "\n",
    "    for i in range(len(hash_table.storage)):\n",
    "        current_pair = hash_table.storage[i]\n",
    "        while current_pair is not None:\n",
    "            hash_table_insert(new_hash_table,\n",
    "                              current_pair.key,\n",
    "                              current_pair.value)\n",
    "            current_pair = current_pair.next\n",
    "\n",
    "    return new_hash_table"
   ]
  },
  {
   "cell_type": "code",
   "execution_count": 28,
   "metadata": {},
   "outputs": [],
   "source": [
    "# from hashtables import (HashTable,\n",
    "#                         hash_table_insert,\n",
    "#                         hash_table_remove,\n",
    "#                         hash_table_retrieve,\n",
    "#                         hash_table_resize)\n",
    "\n",
    "\n",
    "class Ticket:\n",
    "    def __init__(self, source, destination):\n",
    "        self.source = source\n",
    "        self.destination = destination\n",
    "\n",
    "\n",
    "def reconstruct_trip(tickets, length):\n",
    "    hashtable = HashTable(length)\n",
    "#     route = []\n",
    "    route = [None] * length \n",
    "    \n",
    "    \"\"\"\n",
    "    YOUR CODE HERE\n",
    "    \"\"\"\n",
    "    for ticket in tickets:\n",
    "#         print(hashtable,ticket.source,ticket.destination)\n",
    "        hash_table_insert(hashtable,ticket.source,ticket.destination)\n",
    "        \n",
    "    node = hash_table_retrieve(hashtable,\"NONE\")\n",
    "#     print(node)\n",
    "    for i in range(length-1):\n",
    "#     while(node != \"NONE\"):\n",
    "        route[i]=node\n",
    "        node = hash_table_retrieve(hashtable,node)\n",
    "    \n",
    "    route = route[:-1]\n",
    "    return route"
   ]
  },
  {
   "cell_type": "code",
   "execution_count": 29,
   "metadata": {},
   "outputs": [
    {
     "data": {
      "text/plain": [
       "['PDX', 'DCA']"
      ]
     },
     "execution_count": 29,
     "metadata": {},
     "output_type": "execute_result"
    }
   ],
   "source": [
    "ticket_1 = Ticket(\"NONE\", \"PDX\")\n",
    "ticket_2 = Ticket(\"PDX\", \"DCA\")\n",
    "ticket_3 = Ticket(\"DCA\", \"NONE\")\n",
    "\n",
    "tickets = [ticket_1, ticket_2, ticket_3]\n",
    "\n",
    "#expected = [\"PDX\", \"DCA\"]\n",
    "reconstruct_trip(tickets, 3)"
   ]
  },
  {
   "cell_type": "code",
   "execution_count": 30,
   "metadata": {},
   "outputs": [
    {
     "data": {
      "text/plain": [
       "['LAX', 'SFO', 'BHM', 'FLG', 'XNA', 'SAP', 'SLC', 'PIT', 'ORD']"
      ]
     },
     "execution_count": 30,
     "metadata": {},
     "output_type": "execute_result"
    }
   ],
   "source": [
    "ticket_1 = Ticket(\"PIT\", \"ORD\")\n",
    "ticket_2 = Ticket(\"XNA\", \"SAP\")\n",
    "ticket_3 = Ticket(\"SFO\", \"BHM\")\n",
    "ticket_4 = Ticket(\"FLG\", \"XNA\")\n",
    "ticket_5 = Ticket(\"NONE\", \"LAX\")\n",
    "ticket_6 = Ticket(\"LAX\", \"SFO\")\n",
    "ticket_7 = Ticket(\"SAP\", \"SLC\")\n",
    "ticket_8 = Ticket(\"ORD\", \"NONE\")\n",
    "ticket_9 = Ticket(\"SLC\", \"PIT\")\n",
    "ticket_10 = Ticket(\"BHM\", \"FLG\")\n",
    "\n",
    "tickets = [ticket_1, ticket_2, ticket_3, ticket_4, ticket_5,\n",
    "           ticket_6, ticket_7, ticket_8, ticket_9, ticket_10]\n",
    "reconstruct_trip(tickets, 10)\n",
    "#[\"LAX\", \"SFO\", \"BHM\", \"FLG\", \"XNA\", \"SAP\", \"SLC\", \"PIT\", \"ORD\"]"
   ]
  },
  {
   "cell_type": "code",
   "execution_count": null,
   "metadata": {},
   "outputs": [],
   "source": []
  }
 ],
 "metadata": {
  "kernelspec": {
   "display_name": "Python 3",
   "language": "python",
   "name": "python3"
  },
  "language_info": {
   "codemirror_mode": {
    "name": "ipython",
    "version": 3
   },
   "file_extension": ".py",
   "mimetype": "text/x-python",
   "name": "python",
   "nbconvert_exporter": "python",
   "pygments_lexer": "ipython3",
   "version": "3.7.4"
  }
 },
 "nbformat": 4,
 "nbformat_minor": 4
}
